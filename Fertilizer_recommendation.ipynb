{
 "cells": [
  {
   "cell_type": "code",
   "execution_count": 5,
   "id": "861f00d9",
   "metadata": {},
   "outputs": [],
   "source": [
    "import numpy as np\n",
    "import pandas as pd\n",
    "import sklearn"
   ]
  },
  {
   "cell_type": "code",
   "execution_count": 6,
   "id": "301706ea",
   "metadata": {},
   "outputs": [
    {
     "data": {
      "text/html": [
       "<div>\n",
       "<style scoped>\n",
       "    .dataframe tbody tr th:only-of-type {\n",
       "        vertical-align: middle;\n",
       "    }\n",
       "\n",
       "    .dataframe tbody tr th {\n",
       "        vertical-align: top;\n",
       "    }\n",
       "\n",
       "    .dataframe thead th {\n",
       "        text-align: right;\n",
       "    }\n",
       "</style>\n",
       "<table border=\"1\" class=\"dataframe\">\n",
       "  <thead>\n",
       "    <tr style=\"text-align: right;\">\n",
       "      <th></th>\n",
       "      <th>Temparature</th>\n",
       "      <th>Humidity</th>\n",
       "      <th>Moisture</th>\n",
       "      <th>Soil Type</th>\n",
       "      <th>Crop Type</th>\n",
       "      <th>Nitrogen</th>\n",
       "      <th>Potassium</th>\n",
       "      <th>Phosphorous</th>\n",
       "      <th>Fertilizer Name</th>\n",
       "    </tr>\n",
       "  </thead>\n",
       "  <tbody>\n",
       "    <tr>\n",
       "      <th>0</th>\n",
       "      <td>26</td>\n",
       "      <td>52</td>\n",
       "      <td>38</td>\n",
       "      <td>Sandy</td>\n",
       "      <td>Maize</td>\n",
       "      <td>37</td>\n",
       "      <td>0</td>\n",
       "      <td>0</td>\n",
       "      <td>Urea</td>\n",
       "    </tr>\n",
       "    <tr>\n",
       "      <th>1</th>\n",
       "      <td>29</td>\n",
       "      <td>52</td>\n",
       "      <td>45</td>\n",
       "      <td>Loamy</td>\n",
       "      <td>Sugarcane</td>\n",
       "      <td>12</td>\n",
       "      <td>0</td>\n",
       "      <td>36</td>\n",
       "      <td>DAP</td>\n",
       "    </tr>\n",
       "    <tr>\n",
       "      <th>2</th>\n",
       "      <td>34</td>\n",
       "      <td>65</td>\n",
       "      <td>62</td>\n",
       "      <td>Black</td>\n",
       "      <td>Cotton</td>\n",
       "      <td>7</td>\n",
       "      <td>9</td>\n",
       "      <td>30</td>\n",
       "      <td>14-35-14</td>\n",
       "    </tr>\n",
       "    <tr>\n",
       "      <th>3</th>\n",
       "      <td>32</td>\n",
       "      <td>62</td>\n",
       "      <td>34</td>\n",
       "      <td>Red</td>\n",
       "      <td>Tobacco</td>\n",
       "      <td>22</td>\n",
       "      <td>0</td>\n",
       "      <td>20</td>\n",
       "      <td>28-28</td>\n",
       "    </tr>\n",
       "    <tr>\n",
       "      <th>4</th>\n",
       "      <td>28</td>\n",
       "      <td>54</td>\n",
       "      <td>46</td>\n",
       "      <td>Clayey</td>\n",
       "      <td>Paddy</td>\n",
       "      <td>35</td>\n",
       "      <td>0</td>\n",
       "      <td>0</td>\n",
       "      <td>Urea</td>\n",
       "    </tr>\n",
       "  </tbody>\n",
       "</table>\n",
       "</div>"
      ],
      "text/plain": [
       "   Temparature  Humidity   Moisture Soil Type  Crop Type  Nitrogen  Potassium  \\\n",
       "0           26         52        38     Sandy      Maize        37          0   \n",
       "1           29         52        45     Loamy  Sugarcane        12          0   \n",
       "2           34         65        62     Black     Cotton         7          9   \n",
       "3           32         62        34       Red    Tobacco        22          0   \n",
       "4           28         54        46    Clayey      Paddy        35          0   \n",
       "\n",
       "   Phosphorous Fertilizer Name  \n",
       "0            0            Urea  \n",
       "1           36             DAP  \n",
       "2           30        14-35-14  \n",
       "3           20           28-28  \n",
       "4            0            Urea  "
      ]
     },
     "execution_count": 6,
     "metadata": {},
     "output_type": "execute_result"
    }
   ],
   "source": [
    "fertilizer = pd.read_csv(\"Fertilizer Prediction.csv\")\n",
    "fertilizer.head()"
   ]
  },
  {
   "cell_type": "code",
   "execution_count": 7,
   "id": "b94085da",
   "metadata": {},
   "outputs": [
    {
     "data": {
      "text/plain": [
       "(99, 9)"
      ]
     },
     "execution_count": 7,
     "metadata": {},
     "output_type": "execute_result"
    }
   ],
   "source": [
    "fertilizer.shape"
   ]
  },
  {
   "cell_type": "code",
   "execution_count": 8,
   "id": "88ecd25e",
   "metadata": {},
   "outputs": [
    {
     "name": "stdout",
     "output_type": "stream",
     "text": [
      "<class 'pandas.core.frame.DataFrame'>\n",
      "RangeIndex: 99 entries, 0 to 98\n",
      "Data columns (total 9 columns):\n",
      " #   Column           Non-Null Count  Dtype \n",
      "---  ------           --------------  ----- \n",
      " 0   Temparature      99 non-null     int64 \n",
      " 1   Humidity         99 non-null     int64 \n",
      " 2   Moisture         99 non-null     int64 \n",
      " 3   Soil Type        99 non-null     object\n",
      " 4   Crop Type        99 non-null     object\n",
      " 5   Nitrogen         99 non-null     int64 \n",
      " 6   Potassium        99 non-null     int64 \n",
      " 7   Phosphorous      99 non-null     int64 \n",
      " 8   Fertilizer Name  99 non-null     object\n",
      "dtypes: int64(6), object(3)\n",
      "memory usage: 7.1+ KB\n"
     ]
    }
   ],
   "source": [
    "fertilizer.info()"
   ]
  },
  {
   "cell_type": "code",
   "execution_count": 9,
   "id": "d8ed6da5",
   "metadata": {},
   "outputs": [
    {
     "data": {
      "text/plain": [
       "Temparature        0\n",
       "Humidity           0\n",
       "Moisture           0\n",
       "Soil Type          0\n",
       "Crop Type          0\n",
       "Nitrogen           0\n",
       "Potassium          0\n",
       "Phosphorous        0\n",
       "Fertilizer Name    0\n",
       "dtype: int64"
      ]
     },
     "execution_count": 9,
     "metadata": {},
     "output_type": "execute_result"
    }
   ],
   "source": [
    "fertilizer.isnull().sum()"
   ]
  },
  {
   "cell_type": "code",
   "execution_count": 10,
   "id": "0e2ee733",
   "metadata": {},
   "outputs": [
    {
     "data": {
      "text/plain": [
       "0"
      ]
     },
     "execution_count": 10,
     "metadata": {},
     "output_type": "execute_result"
    }
   ],
   "source": [
    "fertilizer.duplicated().sum()"
   ]
  },
  {
   "cell_type": "code",
   "execution_count": 11,
   "id": "96a6937d",
   "metadata": {},
   "outputs": [
    {
     "data": {
      "text/html": [
       "<div>\n",
       "<style scoped>\n",
       "    .dataframe tbody tr th:only-of-type {\n",
       "        vertical-align: middle;\n",
       "    }\n",
       "\n",
       "    .dataframe tbody tr th {\n",
       "        vertical-align: top;\n",
       "    }\n",
       "\n",
       "    .dataframe thead th {\n",
       "        text-align: right;\n",
       "    }\n",
       "</style>\n",
       "<table border=\"1\" class=\"dataframe\">\n",
       "  <thead>\n",
       "    <tr style=\"text-align: right;\">\n",
       "      <th></th>\n",
       "      <th>Temparature</th>\n",
       "      <th>Humidity</th>\n",
       "      <th>Moisture</th>\n",
       "      <th>Nitrogen</th>\n",
       "      <th>Potassium</th>\n",
       "      <th>Phosphorous</th>\n",
       "    </tr>\n",
       "  </thead>\n",
       "  <tbody>\n",
       "    <tr>\n",
       "      <th>count</th>\n",
       "      <td>99.000000</td>\n",
       "      <td>99.000000</td>\n",
       "      <td>99.000000</td>\n",
       "      <td>99.000000</td>\n",
       "      <td>99.000000</td>\n",
       "      <td>99.000000</td>\n",
       "    </tr>\n",
       "    <tr>\n",
       "      <th>mean</th>\n",
       "      <td>30.282828</td>\n",
       "      <td>59.151515</td>\n",
       "      <td>43.181818</td>\n",
       "      <td>18.909091</td>\n",
       "      <td>3.383838</td>\n",
       "      <td>18.606061</td>\n",
       "    </tr>\n",
       "    <tr>\n",
       "      <th>std</th>\n",
       "      <td>3.502304</td>\n",
       "      <td>5.840331</td>\n",
       "      <td>11.271568</td>\n",
       "      <td>11.599693</td>\n",
       "      <td>5.814667</td>\n",
       "      <td>13.476978</td>\n",
       "    </tr>\n",
       "    <tr>\n",
       "      <th>min</th>\n",
       "      <td>25.000000</td>\n",
       "      <td>50.000000</td>\n",
       "      <td>25.000000</td>\n",
       "      <td>4.000000</td>\n",
       "      <td>0.000000</td>\n",
       "      <td>0.000000</td>\n",
       "    </tr>\n",
       "    <tr>\n",
       "      <th>25%</th>\n",
       "      <td>28.000000</td>\n",
       "      <td>54.000000</td>\n",
       "      <td>34.000000</td>\n",
       "      <td>10.000000</td>\n",
       "      <td>0.000000</td>\n",
       "      <td>9.000000</td>\n",
       "    </tr>\n",
       "    <tr>\n",
       "      <th>50%</th>\n",
       "      <td>30.000000</td>\n",
       "      <td>60.000000</td>\n",
       "      <td>41.000000</td>\n",
       "      <td>13.000000</td>\n",
       "      <td>0.000000</td>\n",
       "      <td>19.000000</td>\n",
       "    </tr>\n",
       "    <tr>\n",
       "      <th>75%</th>\n",
       "      <td>33.000000</td>\n",
       "      <td>64.000000</td>\n",
       "      <td>50.500000</td>\n",
       "      <td>24.000000</td>\n",
       "      <td>7.500000</td>\n",
       "      <td>30.000000</td>\n",
       "    </tr>\n",
       "    <tr>\n",
       "      <th>max</th>\n",
       "      <td>38.000000</td>\n",
       "      <td>72.000000</td>\n",
       "      <td>65.000000</td>\n",
       "      <td>42.000000</td>\n",
       "      <td>19.000000</td>\n",
       "      <td>42.000000</td>\n",
       "    </tr>\n",
       "  </tbody>\n",
       "</table>\n",
       "</div>"
      ],
      "text/plain": [
       "       Temparature  Humidity    Moisture   Nitrogen  Potassium  Phosphorous\n",
       "count    99.000000  99.000000  99.000000  99.000000  99.000000    99.000000\n",
       "mean     30.282828  59.151515  43.181818  18.909091   3.383838    18.606061\n",
       "std       3.502304   5.840331  11.271568  11.599693   5.814667    13.476978\n",
       "min      25.000000  50.000000  25.000000   4.000000   0.000000     0.000000\n",
       "25%      28.000000  54.000000  34.000000  10.000000   0.000000     9.000000\n",
       "50%      30.000000  60.000000  41.000000  13.000000   0.000000    19.000000\n",
       "75%      33.000000  64.000000  50.500000  24.000000   7.500000    30.000000\n",
       "max      38.000000  72.000000  65.000000  42.000000  19.000000    42.000000"
      ]
     },
     "execution_count": 11,
     "metadata": {},
     "output_type": "execute_result"
    }
   ],
   "source": [
    "fertilizer.describe()"
   ]
  },
  {
   "cell_type": "code",
   "execution_count": 12,
   "id": "2dce3ed3",
   "metadata": {},
   "outputs": [
    {
     "name": "stderr",
     "output_type": "stream",
     "text": [
      "C:\\Users\\raval\\AppData\\Local\\Temp\\ipykernel_20044\\233580648.py:1: FutureWarning: The default value of numeric_only in DataFrame.corr is deprecated. In a future version, it will default to False. Select only valid columns or specify the value of numeric_only to silence this warning.\n",
      "  ft = fertilizer.corr()\n"
     ]
    },
    {
     "data": {
      "text/html": [
       "<div>\n",
       "<style scoped>\n",
       "    .dataframe tbody tr th:only-of-type {\n",
       "        vertical-align: middle;\n",
       "    }\n",
       "\n",
       "    .dataframe tbody tr th {\n",
       "        vertical-align: top;\n",
       "    }\n",
       "\n",
       "    .dataframe thead th {\n",
       "        text-align: right;\n",
       "    }\n",
       "</style>\n",
       "<table border=\"1\" class=\"dataframe\">\n",
       "  <thead>\n",
       "    <tr style=\"text-align: right;\">\n",
       "      <th></th>\n",
       "      <th>Temparature</th>\n",
       "      <th>Humidity</th>\n",
       "      <th>Moisture</th>\n",
       "      <th>Nitrogen</th>\n",
       "      <th>Potassium</th>\n",
       "      <th>Phosphorous</th>\n",
       "    </tr>\n",
       "  </thead>\n",
       "  <tbody>\n",
       "    <tr>\n",
       "      <th>Temparature</th>\n",
       "      <td>1.000000</td>\n",
       "      <td>0.973164</td>\n",
       "      <td>0.091222</td>\n",
       "      <td>-0.033771</td>\n",
       "      <td>-0.023424</td>\n",
       "      <td>0.207545</td>\n",
       "    </tr>\n",
       "    <tr>\n",
       "      <th>Humidity</th>\n",
       "      <td>0.973164</td>\n",
       "      <td>1.000000</td>\n",
       "      <td>0.091342</td>\n",
       "      <td>-0.060646</td>\n",
       "      <td>-0.003833</td>\n",
       "      <td>0.204044</td>\n",
       "    </tr>\n",
       "    <tr>\n",
       "      <th>Moisture</th>\n",
       "      <td>0.091222</td>\n",
       "      <td>0.091342</td>\n",
       "      <td>1.000000</td>\n",
       "      <td>-0.095945</td>\n",
       "      <td>0.027727</td>\n",
       "      <td>0.009276</td>\n",
       "    </tr>\n",
       "    <tr>\n",
       "      <th>Nitrogen</th>\n",
       "      <td>-0.033771</td>\n",
       "      <td>-0.060646</td>\n",
       "      <td>-0.095945</td>\n",
       "      <td>1.000000</td>\n",
       "      <td>-0.500087</td>\n",
       "      <td>-0.686971</td>\n",
       "    </tr>\n",
       "    <tr>\n",
       "      <th>Potassium</th>\n",
       "      <td>-0.023424</td>\n",
       "      <td>-0.003833</td>\n",
       "      <td>0.027727</td>\n",
       "      <td>-0.500087</td>\n",
       "      <td>1.000000</td>\n",
       "      <td>0.089192</td>\n",
       "    </tr>\n",
       "    <tr>\n",
       "      <th>Phosphorous</th>\n",
       "      <td>0.207545</td>\n",
       "      <td>0.204044</td>\n",
       "      <td>0.009276</td>\n",
       "      <td>-0.686971</td>\n",
       "      <td>0.089192</td>\n",
       "      <td>1.000000</td>\n",
       "    </tr>\n",
       "  </tbody>\n",
       "</table>\n",
       "</div>"
      ],
      "text/plain": [
       "             Temparature  Humidity   Moisture  Nitrogen  Potassium  \\\n",
       "Temparature     1.000000   0.973164  0.091222 -0.033771  -0.023424   \n",
       "Humidity        0.973164   1.000000  0.091342 -0.060646  -0.003833   \n",
       "Moisture        0.091222   0.091342  1.000000 -0.095945   0.027727   \n",
       "Nitrogen       -0.033771  -0.060646 -0.095945  1.000000  -0.500087   \n",
       "Potassium      -0.023424  -0.003833  0.027727 -0.500087   1.000000   \n",
       "Phosphorous     0.207545   0.204044  0.009276 -0.686971   0.089192   \n",
       "\n",
       "             Phosphorous  \n",
       "Temparature     0.207545  \n",
       "Humidity        0.204044  \n",
       "Moisture        0.009276  \n",
       "Nitrogen       -0.686971  \n",
       "Potassium       0.089192  \n",
       "Phosphorous     1.000000  "
      ]
     },
     "execution_count": 12,
     "metadata": {},
     "output_type": "execute_result"
    }
   ],
   "source": [
    "ft = fertilizer.corr()\n",
    "ft"
   ]
  },
  {
   "cell_type": "code",
   "execution_count": 13,
   "id": "7c686a02",
   "metadata": {},
   "outputs": [
    {
     "data": {
      "text/plain": [
       "<Axes: >"
      ]
     },
     "execution_count": 13,
     "metadata": {},
     "output_type": "execute_result"
    },
    {
     "data": {
      "image/png": "[encoded data removed]",
      "text/plain": [
       "<Figure size 640x480 with 2 Axes>"
      ]
     },
     "metadata": {},
     "output_type": "display_data"
    }
   ],
   "source": [
    "import seaborn as sea\n",
    "sea.heatmap(ft,annot=True,cbar=True,cmap='coolwarm')"
   ]
  },
  {
   "cell_type": "code",
   "execution_count": 14,
   "id": "076abed7",
   "metadata": {},
   "outputs": [
    {
     "data": {
      "text/plain": [
       "Urea        22\n",
       "DAP         18\n",
       "28-28       17\n",
       "14-35-14    14\n",
       "20-20       14\n",
       "17-17-17     7\n",
       "10-26-26     7\n",
       "Name: Fertilizer Name, dtype: int64"
      ]
     },
     "execution_count": 14,
     "metadata": {},
     "output_type": "execute_result"
    }
   ],
   "source": [
    "fertilizer['Fertilizer Name'].value_counts()"
   ]
  },
  {
   "cell_type": "code",
   "execution_count": 15,
   "id": "46849256",
   "metadata": {},
   "outputs": [],
   "source": [
    "import matplotlib.pyplot as plt"
   ]
  },
  {
   "cell_type": "code",
   "execution_count": 16,
   "id": "f53e8265",
   "metadata": {},
   "outputs": [
    {
     "name": "stderr",
     "output_type": "stream",
     "text": [
      "C:\\Users\\raval\\AppData\\Local\\Temp\\ipykernel_20044\\301136775.py:1: UserWarning: \n",
      "\n",
      "`distplot` is a deprecated function and will be removed in seaborn v0.14.0.\n",
      "\n",
      "Please adapt your code to use either `displot` (a figure-level function with\n",
      "similar flexibility) or `histplot` (an axes-level function for histograms).\n",
      "\n",
      "For a guide to updating your code to use the new functions, please see\n",
      "https://gist.github.com/mwaskom/de44147ed2974457ad6372750bbe5751\n",
      "\n",
      "  sea.distplot(fertilizer['Temparature'])\n"
     ]
    },
    {
     "data": {
      "text/plain": [
       "<Axes: xlabel='Temparature', ylabel='Density'>"
      ]
     },
     "execution_count": 16,
     "metadata": {},
     "output_type": "execute_result"
    },
    {
     "data": {
      "image/png": "[encoded data removed]",
      "text/plain": [
       "<Figure size 640x480 with 1 Axes>"
      ]
     },
     "metadata": {},
     "output_type": "display_data"
    }
   ],
   "source": [
    "sea.distplot(fertilizer['Temparature'])\n"
   ]
  },
  {
   "cell_type": "code",
   "execution_count": 17,
   "id": "8f77a4e1",
   "metadata": {},
   "outputs": [],
   "source": [
    "fert_dict = {\n",
    "'Urea':1,\n",
    "'DAP':2,\n",
    "'14-35-14':3,\n",
    "'28-28':4,\n",
    "'17-17-17':5,\n",
    "'20-20':6,\n",
    "'10-26-26':7,\n",
    "}"
   ]
  },
  {
   "cell_type": "code",
   "execution_count": 18,
   "id": "40e0a384",
   "metadata": {},
   "outputs": [],
   "source": [
    "fertilizer['fert_no'] = fertilizer['Fertilizer Name'].map(fert_dict)"
   ]
  },
  {
   "cell_type": "code",
   "execution_count": 19,
   "id": "ecf73dc2",
   "metadata": {},
   "outputs": [
    {
     "data": {
      "text/plain": [
       "1    22\n",
       "2    18\n",
       "4    17\n",
       "3    14\n",
       "6    14\n",
       "5     7\n",
       "7     7\n",
       "Name: fert_no, dtype: int64"
      ]
     },
     "execution_count": 19,
     "metadata": {},
     "output_type": "execute_result"
    }
   ],
   "source": [
    "fertilizer['fert_no'].value_counts()"
   ]
  },
  {
   "cell_type": "code",
   "execution_count": 20,
   "id": "76054e1b",
   "metadata": {},
   "outputs": [
    {
     "data": {
      "text/html": [
       "<div>\n",
       "<style scoped>\n",
       "    .dataframe tbody tr th:only-of-type {\n",
       "        vertical-align: middle;\n",
       "    }\n",
       "\n",
       "    .dataframe tbody tr th {\n",
       "        vertical-align: top;\n",
       "    }\n",
       "\n",
       "    .dataframe thead th {\n",
       "        text-align: right;\n",
       "    }\n",
       "</style>\n",
       "<table border=\"1\" class=\"dataframe\">\n",
       "  <thead>\n",
       "    <tr style=\"text-align: right;\">\n",
       "      <th></th>\n",
       "      <th>Temparature</th>\n",
       "      <th>Humidity</th>\n",
       "      <th>Moisture</th>\n",
       "      <th>Soil Type</th>\n",
       "      <th>Crop Type</th>\n",
       "      <th>Nitrogen</th>\n",
       "      <th>Potassium</th>\n",
       "      <th>Phosphorous</th>\n",
       "      <th>fert_no</th>\n",
       "    </tr>\n",
       "  </thead>\n",
       "  <tbody>\n",
       "    <tr>\n",
       "      <th>0</th>\n",
       "      <td>26</td>\n",
       "      <td>52</td>\n",
       "      <td>38</td>\n",
       "      <td>Sandy</td>\n",
       "      <td>Maize</td>\n",
       "      <td>37</td>\n",
       "      <td>0</td>\n",
       "      <td>0</td>\n",
       "      <td>1</td>\n",
       "    </tr>\n",
       "    <tr>\n",
       "      <th>1</th>\n",
       "      <td>29</td>\n",
       "      <td>52</td>\n",
       "      <td>45</td>\n",
       "      <td>Loamy</td>\n",
       "      <td>Sugarcane</td>\n",
       "      <td>12</td>\n",
       "      <td>0</td>\n",
       "      <td>36</td>\n",
       "      <td>2</td>\n",
       "    </tr>\n",
       "    <tr>\n",
       "      <th>2</th>\n",
       "      <td>34</td>\n",
       "      <td>65</td>\n",
       "      <td>62</td>\n",
       "      <td>Black</td>\n",
       "      <td>Cotton</td>\n",
       "      <td>7</td>\n",
       "      <td>9</td>\n",
       "      <td>30</td>\n",
       "      <td>3</td>\n",
       "    </tr>\n",
       "    <tr>\n",
       "      <th>3</th>\n",
       "      <td>32</td>\n",
       "      <td>62</td>\n",
       "      <td>34</td>\n",
       "      <td>Red</td>\n",
       "      <td>Tobacco</td>\n",
       "      <td>22</td>\n",
       "      <td>0</td>\n",
       "      <td>20</td>\n",
       "      <td>4</td>\n",
       "    </tr>\n",
       "    <tr>\n",
       "      <th>4</th>\n",
       "      <td>28</td>\n",
       "      <td>54</td>\n",
       "      <td>46</td>\n",
       "      <td>Clayey</td>\n",
       "      <td>Paddy</td>\n",
       "      <td>35</td>\n",
       "      <td>0</td>\n",
       "      <td>0</td>\n",
       "      <td>1</td>\n",
       "    </tr>\n",
       "  </tbody>\n",
       "</table>\n",
       "</div>"
      ],
      "text/plain": [
       "   Temparature  Humidity   Moisture Soil Type  Crop Type  Nitrogen  Potassium  \\\n",
       "0           26         52        38     Sandy      Maize        37          0   \n",
       "1           29         52        45     Loamy  Sugarcane        12          0   \n",
       "2           34         65        62     Black     Cotton         7          9   \n",
       "3           32         62        34       Red    Tobacco        22          0   \n",
       "4           28         54        46    Clayey      Paddy        35          0   \n",
       "\n",
       "   Phosphorous  fert_no  \n",
       "0            0        1  \n",
       "1           36        2  \n",
       "2           30        3  \n",
       "3           20        4  \n",
       "4            0        1  "
      ]
     },
     "execution_count": 20,
     "metadata": {},
     "output_type": "execute_result"
    }
   ],
   "source": [
    "fertilizer.drop('Fertilizer Name',axis=1,inplace=True)\n",
    "fertilizer.head()"
   ]
  },
  {
   "cell_type": "code",
   "execution_count": 21,
   "id": "9188e096",
   "metadata": {},
   "outputs": [],
   "source": [
    "from sklearn.preprocessing import LabelEncoder\n",
    "lb=LabelEncoder()"
   ]
  },
  {
   "cell_type": "code",
   "execution_count": 22,
   "id": "4518c58f",
   "metadata": {},
   "outputs": [
    {
     "data": {
      "text/plain": [
       "Index(['Temparature', 'Humidity ', 'Moisture', 'Soil Type', 'Crop Type',\n",
       "       'Nitrogen', 'Potassium', 'Phosphorous', 'fert_no'],\n",
       "      dtype='object')"
      ]
     },
     "execution_count": 22,
     "metadata": {},
     "output_type": "execute_result"
    }
   ],
   "source": [
    "fertilizer.columns"
   ]
  },
  {
   "cell_type": "code",
   "execution_count": 23,
   "id": "e5f4ec08",
   "metadata": {},
   "outputs": [],
   "source": [
    "fertilizer[\"Soil Type\"]=lb.fit_transform(fertilizer['Soil Type'])"
   ]
  },
  {
   "cell_type": "code",
   "execution_count": 24,
   "id": "a54ab0c7",
   "metadata": {},
   "outputs": [],
   "source": [
    "fertilizer['Crop Type']=lb.fit_transform(fertilizer['Crop Type'])"
   ]
  },
  {
   "cell_type": "code",
   "execution_count": 25,
   "id": "98a9c4d5",
   "metadata": {},
   "outputs": [
    {
     "data": {
      "text/html": [
       "<div>\n",
       "<style scoped>\n",
       "    .dataframe tbody tr th:only-of-type {\n",
       "        vertical-align: middle;\n",
       "    }\n",
       "\n",
       "    .dataframe tbody tr th {\n",
       "        vertical-align: top;\n",
       "    }\n",
       "\n",
       "    .dataframe thead th {\n",
       "        text-align: right;\n",
       "    }\n",
       "</style>\n",
       "<table border=\"1\" class=\"dataframe\">\n",
       "  <thead>\n",
       "    <tr style=\"text-align: right;\">\n",
       "      <th></th>\n",
       "      <th>Temparature</th>\n",
       "      <th>Humidity</th>\n",
       "      <th>Moisture</th>\n",
       "      <th>Soil Type</th>\n",
       "      <th>Crop Type</th>\n",
       "      <th>Nitrogen</th>\n",
       "      <th>Potassium</th>\n",
       "      <th>Phosphorous</th>\n",
       "      <th>fert_no</th>\n",
       "    </tr>\n",
       "  </thead>\n",
       "  <tbody>\n",
       "    <tr>\n",
       "      <th>0</th>\n",
       "      <td>26</td>\n",
       "      <td>52</td>\n",
       "      <td>38</td>\n",
       "      <td>4</td>\n",
       "      <td>3</td>\n",
       "      <td>37</td>\n",
       "      <td>0</td>\n",
       "      <td>0</td>\n",
       "      <td>1</td>\n",
       "    </tr>\n",
       "    <tr>\n",
       "      <th>1</th>\n",
       "      <td>29</td>\n",
       "      <td>52</td>\n",
       "      <td>45</td>\n",
       "      <td>2</td>\n",
       "      <td>8</td>\n",
       "      <td>12</td>\n",
       "      <td>0</td>\n",
       "      <td>36</td>\n",
       "      <td>2</td>\n",
       "    </tr>\n",
       "    <tr>\n",
       "      <th>2</th>\n",
       "      <td>34</td>\n",
       "      <td>65</td>\n",
       "      <td>62</td>\n",
       "      <td>0</td>\n",
       "      <td>1</td>\n",
       "      <td>7</td>\n",
       "      <td>9</td>\n",
       "      <td>30</td>\n",
       "      <td>3</td>\n",
       "    </tr>\n",
       "    <tr>\n",
       "      <th>3</th>\n",
       "      <td>32</td>\n",
       "      <td>62</td>\n",
       "      <td>34</td>\n",
       "      <td>3</td>\n",
       "      <td>9</td>\n",
       "      <td>22</td>\n",
       "      <td>0</td>\n",
       "      <td>20</td>\n",
       "      <td>4</td>\n",
       "    </tr>\n",
       "    <tr>\n",
       "      <th>4</th>\n",
       "      <td>28</td>\n",
       "      <td>54</td>\n",
       "      <td>46</td>\n",
       "      <td>1</td>\n",
       "      <td>6</td>\n",
       "      <td>35</td>\n",
       "      <td>0</td>\n",
       "      <td>0</td>\n",
       "      <td>1</td>\n",
       "    </tr>\n",
       "  </tbody>\n",
       "</table>\n",
       "</div>"
      ],
      "text/plain": [
       "   Temparature  Humidity   Moisture  Soil Type  Crop Type  Nitrogen  \\\n",
       "0           26         52        38          4          3        37   \n",
       "1           29         52        45          2          8        12   \n",
       "2           34         65        62          0          1         7   \n",
       "3           32         62        34          3          9        22   \n",
       "4           28         54        46          1          6        35   \n",
       "\n",
       "   Potassium  Phosphorous  fert_no  \n",
       "0          0            0        1  \n",
       "1          0           36        2  \n",
       "2          9           30        3  \n",
       "3          0           20        4  \n",
       "4          0            0        1  "
      ]
     },
     "execution_count": 25,
     "metadata": {},
     "output_type": "execute_result"
    }
   ],
   "source": [
    "fertilizer.head()"
   ]
  },
  {
   "cell_type": "code",
   "execution_count": 26,
   "id": "157672f9",
   "metadata": {},
   "outputs": [
    {
     "data": {
      "text/plain": [
       "(99, 8)"
      ]
     },
     "execution_count": 26,
     "metadata": {},
     "output_type": "execute_result"
    }
   ],
   "source": [
    "x = fertilizer.drop('fert_no',axis=1)\n",
    "y = fertilizer['fert_no']\n",
    "\n",
    "x.shape"
   ]
  },
  {
   "cell_type": "code",
   "execution_count": 27,
   "id": "2dd6cc5d",
   "metadata": {},
   "outputs": [
    {
     "data": {
      "text/plain": [
       "(99,)"
      ]
     },
     "execution_count": 27,
     "metadata": {},
     "output_type": "execute_result"
    }
   ],
   "source": [
    "y.shape"
   ]
  },
  {
   "cell_type": "code",
   "execution_count": 28,
   "id": "7323851b",
   "metadata": {},
   "outputs": [],
   "source": [
    "from sklearn.model_selection import train_test_split"
   ]
  },
  {
   "cell_type": "code",
   "execution_count": 29,
   "id": "66ecff90",
   "metadata": {},
   "outputs": [],
   "source": [
    "x_train, x_test, y_train, y_test = train_test_split( x, y, test_size=0.2, random_state=42)"
   ]
  },
  {
   "cell_type": "code",
   "execution_count": 30,
   "id": "85a53bdb",
   "metadata": {},
   "outputs": [
    {
     "data": {
      "text/plain": [
       "(79, 8)"
      ]
     },
     "execution_count": 30,
     "metadata": {},
     "output_type": "execute_result"
    }
   ],
   "source": [
    "x_train.shape"
   ]
  },
  {
   "cell_type": "code",
   "execution_count": 31,
   "id": "b5c09eef",
   "metadata": {},
   "outputs": [
    {
     "data": {
      "text/plain": [
       "(20, 8)"
      ]
     },
     "execution_count": 31,
     "metadata": {},
     "output_type": "execute_result"
    }
   ],
   "source": [
    "x_test.shape"
   ]
  },
  {
   "cell_type": "markdown",
   "id": "18265af4",
   "metadata": {},
   "source": [
    "# Scaling"
   ]
  },
  {
   "cell_type": "code",
   "execution_count": 32,
   "id": "94b0af78",
   "metadata": {},
   "outputs": [],
   "source": [
    "from sklearn.preprocessing import MinMaxScaler"
   ]
  },
  {
   "cell_type": "code",
   "execution_count": 33,
   "id": "5059f050",
   "metadata": {},
   "outputs": [
    {
     "data": {
      "text/html": [
       "<style>#sk-container-id-1 {color: black;background-color: white;}#sk-container-id-1 pre{padding: 0;}#sk-container-id-1 div.sk-toggleable {background-color: white;}#sk-container-id-1 label.sk-toggleable__label {cursor: pointer;display: block;width: 100%;margin-bottom: 0;padding: 0.3em;box-sizing: border-box;text-align: center;}#sk-container-id-1 label.sk-toggleable__label-arrow:before {content: \"▸\";float: left;margin-right: 0.25em;color: #696969;}#sk-container-id-1 label.sk-toggleable__label-arrow:hover:before {color: black;}#sk-container-id-1 div.sk-estimator:hover label.sk-toggleable__label-arrow:before {color: black;}#sk-container-id-1 div.sk-toggleable__content {max-height: 0;max-width: 0;overflow: hidden;text-align: left;background-color: #f0f8ff;}#sk-container-id-1 div.sk-toggleable__content pre {margin: 0.2em;color: black;border-radius: 0.25em;background-color: #f0f8ff;}#sk-container-id-1 input.sk-toggleable__control:checked~div.sk-toggleable__content {max-height: 200px;max-width: 100%;overflow: auto;}#sk-container-id-1 input.sk-toggleable__control:checked~label.sk-toggleable__label-arrow:before {content: \"▾\";}#sk-container-id-1 div.sk-estimator input.sk-toggleable__control:checked~label.sk-toggleable__label {background-color: #d4ebff;}#sk-container-id-1 div.sk-label input.sk-toggleable__control:checked~label.sk-toggleable__label {background-color: #d4ebff;}#sk-container-id-1 input.sk-hidden--visually {border: 0;clip: rect(1px 1px 1px 1px);clip: rect(1px, 1px, 1px, 1px);height: 1px;margin: -1px;overflow: hidden;padding: 0;position: absolute;width: 1px;}#sk-container-id-1 div.sk-estimator {font-family: monospace;background-color: #f0f8ff;border: 1px dotted black;border-radius: 0.25em;box-sizing: border-box;margin-bottom: 0.5em;}#sk-container-id-1 div.sk-estimator:hover {background-color: #d4ebff;}#sk-container-id-1 div.sk-parallel-item::after {content: \"\";width: 100%;border-bottom: 1px solid gray;flex-grow: 1;}#sk-container-id-1 div.sk-label:hover label.sk-toggleable__label {background-color: #d4ebff;}#sk-container-id-1 div.sk-serial::before {content: \"\";position: absolute;border-left: 1px solid gray;box-sizing: border-box;top: 0;bottom: 0;left: 50%;z-index: 0;}#sk-container-id-1 div.sk-serial {display: flex;flex-direction: column;align-items: center;background-color: white;padding-right: 0.2em;padding-left: 0.2em;position: relative;}#sk-container-id-1 div.sk-item {position: relative;z-index: 1;}#sk-container-id-1 div.sk-parallel {display: flex;align-items: stretch;justify-content: center;background-color: white;position: relative;}#sk-container-id-1 div.sk-item::before, #sk-container-id-1 div.sk-parallel-item::before {content: \"\";position: absolute;border-left: 1px solid gray;box-sizing: border-box;top: 0;bottom: 0;left: 50%;z-index: -1;}#sk-container-id-1 div.sk-parallel-item {display: flex;flex-direction: column;z-index: 1;position: relative;background-color: white;}#sk-container-id-1 div.sk-parallel-item:first-child::after {align-self: flex-end;width: 50%;}#sk-container-id-1 div.sk-parallel-item:last-child::after {align-self: flex-start;width: 50%;}#sk-container-id-1 div.sk-parallel-item:only-child::after {width: 0;}#sk-container-id-1 div.sk-dashed-wrapped {border: 1px dashed gray;margin: 0 0.4em 0.5em 0.4em;box-sizing: border-box;padding-bottom: 0.4em;background-color: white;}#sk-container-id-1 div.sk-label label {font-family: monospace;font-weight: bold;display: inline-block;line-height: 1.2em;}#sk-container-id-1 div.sk-label-container {text-align: center;}#sk-container-id-1 div.sk-container {/* jupyter's `normalize.less` sets `[hidden] { display: none; }` but bootstrap.min.css set `[hidden] { display: none !important; }` so we also need the `!important` here to be able to override the default hidden behavior on the sphinx rendered scikit-learn.org. See: https://github.com/scikit-learn/scikit-learn/issues/21755 */display: inline-block !important;position: relative;}#sk-container-id-1 div.sk-text-repr-fallback {display: none;}</style><div id=\"sk-container-id-1\" class=\"sk-top-container\"><div class=\"sk-text-repr-fallback\"><pre>MinMaxScaler()</pre><b>In a Jupyter environment, please rerun this cell to show the HTML representation or trust the notebook. <br />On GitHub, the HTML representation is unable to render, please try loading this page with nbviewer.org.</b></div><div class=\"sk-container\" hidden><div class=\"sk-item\"><div class=\"sk-estimator sk-toggleable\"><input class=\"sk-toggleable__control sk-hidden--visually\" id=\"sk-estimator-id-1\" type=\"checkbox\" checked><label for=\"sk-estimator-id-1\" class=\"sk-toggleable__label sk-toggleable__label-arrow\">MinMaxScaler</label><div class=\"sk-toggleable__content\"><pre>MinMaxScaler()</pre></div></div></div></div></div>"
      ],
      "text/plain": [
       "MinMaxScaler()"
      ]
     },
     "execution_count": 33,
     "metadata": {},
     "output_type": "execute_result"
    }
   ],
   "source": [
    "mx = MinMaxScaler()\n",
    "\n",
    "mx.fit(x_train)"
   ]
  },
  {
   "cell_type": "code",
   "execution_count": 34,
   "id": "e8bcec45",
   "metadata": {},
   "outputs": [],
   "source": [
    "x_train = mx.transform(x_train)\n",
    "x_test = mx.transform(x_test)"
   ]
  },
  {
   "cell_type": "code",
   "execution_count": 35,
   "id": "45ba3e2c",
   "metadata": {},
   "outputs": [
    {
     "data": {
      "text/plain": [
       "array([[0.61538462, 0.63636364, 0.65      , 1.        , 0.3       ,\n",
       "        0.        , 0.47368421, 0.69047619],\n",
       "       [0.07692308, 0.09090909, 0.35      , 0.25      , 0.7       ,\n",
       "        0.44444444, 0.        , 0.54761905],\n",
       "       [0.        , 0.        , 0.375     , 0.25      , 0.7       ,\n",
       "        0.02777778, 1.        , 0.38095238],\n",
       "       [0.46153846, 0.54545455, 0.6       , 0.        , 0.8       ,\n",
       "        0.13888889, 0.68421053, 0.33333333],\n",
       "       [0.30769231, 0.36363636, 0.225     , 1.        , 0.4       ,\n",
       "        0.27777778, 0.        , 0.88095238],\n",
       "       [0.84615385, 0.81818182, 0.325     , 1.        , 0.        ,\n",
       "        0.05555556, 0.47368421, 0.71428571],\n",
       "       [0.30769231, 0.36363636, 0.2       , 0.        , 0.5       ,\n",
       "        0.11111111, 0.36842105, 0.71428571],\n",
       "       [0.38461538, 0.45454545, 0.375     , 1.        , 0.4       ,\n",
       "        1.        , 0.        , 0.        ],\n",
       "       [0.46153846, 0.54545455, 0.575     , 1.        , 0.3       ,\n",
       "        0.25      , 0.78947368, 0.28571429],\n",
       "       [0.84615385, 0.81818182, 0.925     , 0.75      , 0.1       ,\n",
       "        0.27777778, 0.        , 0.95238095],\n",
       "       [0.        , 0.        , 0.175     , 0.25      , 0.7       ,\n",
       "        0.52777778, 0.        , 0.45238095],\n",
       "       [0.30769231, 0.36363636, 0.375     , 0.75      , 0.2       ,\n",
       "        0.52777778, 0.        , 0.54761905],\n",
       "       [0.92307692, 0.90909091, 0.175     , 0.        , 0.5       ,\n",
       "        0.19444444, 0.        , 0.92857143],\n",
       "       [0.30769231, 0.36363636, 0.9       , 0.5       , 0.1       ,\n",
       "        0.16666667, 0.        , 0.9047619 ],\n",
       "       [0.07692308, 0.09090909, 0.25      , 1.        , 0.        ,\n",
       "        0.19444444, 0.52631579, 0.30952381],\n",
       "       [1.        , 0.90909091, 0.575     , 0.5       , 1.        ,\n",
       "        0.08333333, 0.42105263, 0.66666667],\n",
       "       [0.38461538, 0.45454545, 0.325     , 1.        , 0.4       ,\n",
       "        0.13888889, 0.        , 0.33333333],\n",
       "       [0.23076923, 0.18181818, 0.25      , 0.        , 0.4       ,\n",
       "        1.        , 0.        , 0.        ],\n",
       "       [0.61538462, 0.63636364, 0.225     , 0.25      , 0.7       ,\n",
       "        0.91666667, 0.        , 0.        ],\n",
       "       [0.69230769, 0.68181818, 0.575     , 0.5       , 1.        ,\n",
       "        0.5       , 0.        , 0.45238095],\n",
       "       [0.07692308, 0.09090909, 0.575     , 0.5       , 1.        ,\n",
       "        0.5       , 0.        , 0.45238095],\n",
       "       [0.61538462, 0.63636364, 0.625     , 0.5       , 1.        ,\n",
       "        1.        , 0.        , 0.        ],\n",
       "       [0.15384615, 0.13636364, 0.45      , 0.        , 0.4       ,\n",
       "        0.5       , 0.        , 0.57142857],\n",
       "       [0.53846154, 0.54545455, 0.125     , 0.5       , 0.8       ,\n",
       "        0.91666667, 0.        , 0.        ],\n",
       "       [0.30769231, 0.36363636, 0.675     , 0.5       , 1.        ,\n",
       "        0.22222222, 0.        , 0.85714286],\n",
       "       [0.23076923, 0.18181818, 0.45      , 0.25      , 0.6       ,\n",
       "        0.13888889, 0.42105263, 0.69047619],\n",
       "       [0.07692308, 0.09090909, 0.475     , 1.        , 0.3       ,\n",
       "        0.5       , 0.        , 0.47619048],\n",
       "       [0.38461538, 0.45454545, 0.55      , 1.        , 0.        ,\n",
       "        0.19444444, 0.        , 1.        ],\n",
       "       [0.53846154, 0.54545455, 0.4       , 0.25      , 0.6       ,\n",
       "        0.52777778, 0.        , 0.52380952],\n",
       "       [0.61538462, 0.63636364, 0.35      , 0.25      , 0.6       ,\n",
       "        0.22222222, 0.        , 0.23809524],\n",
       "       [0.53846154, 0.54545455, 0.225     , 0.75      , 0.9       ,\n",
       "        0.47222222, 0.        , 0.47619048],\n",
       "       [0.        , 0.        , 0.35      , 1.        , 0.        ,\n",
       "        0.44444444, 0.        , 0.45238095],\n",
       "       [0.        , 0.        , 0.025     , 0.75      , 0.2       ,\n",
       "        0.27777778, 0.73684211, 0.26190476],\n",
       "       [0.38461538, 0.45454545, 0.425     , 1.        , 0.4       ,\n",
       "        0.44444444, 0.        , 0.42857143],\n",
       "       [0.15384615, 0.13636364, 0.85      , 0.5       , 0.8       ,\n",
       "        0.13888889, 0.        , 0.35714286],\n",
       "       [0.        , 0.        , 0.975     , 0.75      , 0.1       ,\n",
       "        0.11111111, 0.        , 0.23809524],\n",
       "       [0.69230769, 0.68181818, 0.95      , 0.75      , 0.1       ,\n",
       "        0.25      , 0.        , 0.9047619 ],\n",
       "       [0.38461538, 0.45454545, 0.9       , 0.5       , 0.1       ,\n",
       "        0.08333333, 0.52631579, 0.73809524],\n",
       "       [0.69230769, 0.68181818, 0.5       , 0.25      , 0.6       ,\n",
       "        0.02777778, 1.        , 0.5       ],\n",
       "       [0.69230769, 0.68181818, 0.725     , 0.5       , 1.        ,\n",
       "        0.91666667, 0.        , 0.        ],\n",
       "       [0.30769231, 0.36363636, 0.8       , 0.        , 0.8       ,\n",
       "        0.19444444, 0.        , 0.23809524],\n",
       "       [0.46153846, 0.54545455, 0.95      , 0.75      , 0.1       ,\n",
       "        0.16666667, 0.63157895, 0.35714286],\n",
       "       [0.69230769, 0.68181818, 0.875     , 0.        , 0.8       ,\n",
       "        0.83333333, 0.        , 0.        ],\n",
       "       [0.69230769, 0.68181818, 0.15      , 0.75      , 0.9       ,\n",
       "        0.5       , 0.        , 0.5       ],\n",
       "       [0.69230769, 0.68181818, 0.8       , 0.        , 0.8       ,\n",
       "        0.11111111, 0.        , 0.30952381],\n",
       "       [0.07692308, 0.09090909, 0.175     , 0.        , 0.5       ,\n",
       "        0.19444444, 0.        , 0.19047619],\n",
       "       [0.30769231, 0.36363636, 0.75      , 0.5       , 0.8       ,\n",
       "        0.08333333, 0.42105263, 0.78571429],\n",
       "       [0.38461538, 0.45454545, 0.6       , 0.5       , 1.        ,\n",
       "        0.22222222, 0.        , 0.21428571],\n",
       "       [1.        , 1.        , 0.65      , 0.5       , 1.        ,\n",
       "        0.94444444, 0.        , 0.        ],\n",
       "       [0.07692308, 0.09090909, 0.275     , 0.25      , 0.7       ,\n",
       "        0.05555556, 0.84210526, 0.47619048],\n",
       "       [0.38461538, 0.45454545, 0.825     , 0.5       , 0.8       ,\n",
       "        0.13888889, 0.36842105, 0.76190476],\n",
       "       [0.        , 0.        , 0.775     , 0.5       , 0.8       ,\n",
       "        0.16666667, 0.68421053, 0.35714286],\n",
       "       [0.38461538, 0.45454545, 0.1       , 0.75      , 0.2       ,\n",
       "        1.        , 0.        , 0.        ],\n",
       "       [0.76923077, 0.77272727, 0.075     , 0.25      , 0.7       ,\n",
       "        0.08333333, 0.36842105, 0.73809524],\n",
       "       [0.30769231, 0.36363636, 0.3       , 1.        , 0.4       ,\n",
       "        0.08333333, 0.        , 0.35714286],\n",
       "       [0.30769231, 0.36363636, 0.425     , 0.25      , 0.6       ,\n",
       "        0.11111111, 0.52631579, 0.52380952],\n",
       "       [0.69230769, 0.68181818, 0.325     , 0.25      , 0.6       ,\n",
       "        0.94444444, 0.        , 0.        ],\n",
       "       [0.23076923, 0.18181818, 0.        , 1.        , 0.3       ,\n",
       "        0.11111111, 0.52631579, 0.71428571],\n",
       "       [0.53846154, 0.54545455, 0.225     , 0.75      , 0.2       ,\n",
       "        0.27777778, 0.        , 0.88095238],\n",
       "       [0.23076923, 0.18181818, 0.55      , 1.        , 0.        ,\n",
       "        0.        , 0.94736842, 0.35714286],\n",
       "       [0.07692308, 0.09090909, 0.85      , 0.5       , 0.8       ,\n",
       "        0.16666667, 0.        , 0.21428571],\n",
       "       [0.92307692, 0.90909091, 0.3       , 0.25      , 0.6       ,\n",
       "        0.19444444, 0.        , 0.97619048],\n",
       "       [0.07692308, 0.09090909, 0.275     , 0.25      , 0.7       ,\n",
       "        0.25      , 0.        , 0.30952381],\n",
       "       [0.30769231, 0.09090909, 0.5       , 0.5       , 0.8       ,\n",
       "        0.19444444, 0.        , 0.85714286],\n",
       "       [0.23076923, 0.18181818, 0.325     , 0.25      , 0.7       ,\n",
       "        0.97222222, 0.        , 0.        ],\n",
       "       [0.69230769, 0.68181818, 0.7       , 0.5       , 0.8       ,\n",
       "        0.19444444, 0.73684211, 0.28571429],\n",
       "       [0.69230769, 0.68181818, 0.925     , 0.        , 0.1       ,\n",
       "        0.05555556, 0.47368421, 0.71428571],\n",
       "       [0.23076923, 0.18181818, 0.3       , 0.        , 0.4       ,\n",
       "        0.86111111, 0.        , 0.        ],\n",
       "       [0.15384615, 0.13636364, 0.125     , 0.        , 0.4       ,\n",
       "        0.83333333, 0.        , 0.        ],\n",
       "       [0.38461538, 0.45454545, 0.025     , 0.        , 0.5       ,\n",
       "        0.08333333, 0.47368421, 0.71428571],\n",
       "       [0.61538462, 0.63636364, 0.15      , 0.75      , 0.2       ,\n",
       "        0.22222222, 0.        , 0.92857143],\n",
       "       [0.30769231, 0.36363636, 0.125     , 0.75      , 0.9       ,\n",
       "        0.22222222, 0.89473684, 0.38095238],\n",
       "       [0.30769231, 0.36363636, 1.        , 0.        , 0.1       ,\n",
       "        0.25      , 0.        , 0.83333333],\n",
       "       [0.38461538, 0.45454545, 0.475     , 1.        , 0.4       ,\n",
       "        0.13888889, 0.        , 0.21428571],\n",
       "       [0.23076923, 0.18181818, 0.4       , 0.25      , 0.6       ,\n",
       "        0.86111111, 0.        , 0.        ],\n",
       "       [0.46153846, 0.54545455, 0.175     , 0.75      , 0.9       ,\n",
       "        0.94444444, 0.        , 0.        ],\n",
       "       [0.07692308, 0.09090909, 0.15      , 0.75      , 0.2       ,\n",
       "        0.25      , 0.        , 0.97619048],\n",
       "       [0.84615385, 0.81818182, 0.4       , 0.75      , 0.2       ,\n",
       "        1.        , 0.        , 0.        ],\n",
       "       [0.84615385, 0.81818182, 0.2       , 0.        , 0.5       ,\n",
       "        0.22222222, 0.        , 0.33333333]])"
      ]
     },
     "execution_count": 35,
     "metadata": {},
     "output_type": "execute_result"
    }
   ],
   "source": [
    "x_train"
   ]
  },
  {
   "cell_type": "markdown",
   "id": "65d92713",
   "metadata": {},
   "source": [
    "# Standardization"
   ]
  },
  {
   "cell_type": "code",
   "execution_count": 36,
   "id": "1c7880c8",
   "metadata": {},
   "outputs": [],
   "source": [
    "from sklearn.preprocessing import StandardScaler\n",
    "sc = StandardScaler()\n",
    "\n",
    "sc.fit(x_train)\n",
    "x_train = sc.transform(x_train)\n",
    "x_test = sc.transform(x_test)"
   ]
  },
  {
   "cell_type": "code",
   "execution_count": 37,
   "id": "19b2db3e",
   "metadata": {},
   "outputs": [
    {
     "data": {
      "text/plain": [
       "array([[ 0.76462082,  0.80219471,  0.71373089,  1.45583886, -0.73178566,\n",
       "        -1.15292671,  0.91259936,  0.80677787],\n",
       "       [-1.22988538, -1.23117583, -0.39185226, -0.7141851 ,  0.56733945,\n",
       "         0.24967133, -0.63230099,  0.3465941 ],\n",
       "       [-1.51481484, -1.57007092, -0.29972033, -0.7141851 ,  0.56733945,\n",
       "        -1.06526433,  2.62915531, -0.19028696],\n",
       "       [ 0.19476191,  0.46329962,  0.52946704, -1.43752643,  0.89212073,\n",
       "        -0.71461482,  1.59922174, -0.34368155],\n",
       "       [-0.37509701, -0.21449056, -0.8525119 ,  1.45583886, -0.40700439,\n",
       "        -0.27630294, -0.63230099,  1.42035622],\n",
       "       [ 1.6194092 ,  1.47998489, -0.48398419,  1.45583886, -1.7061295 ,\n",
       "        -0.97760196,  0.91259936,  0.88347516],\n",
       "       [-0.37509701, -0.21449056, -0.94464383, -1.43752643, -0.08222311,\n",
       "        -0.8022772 ,  0.56928817,  0.88347516],\n",
       "       [-0.09016755,  0.12440453, -0.29972033,  1.45583886, -0.40700439,\n",
       "         2.00291888, -0.63230099, -1.41744366],\n",
       "       [ 0.19476191,  0.46329962,  0.43733511,  1.45583886, -0.73178566,\n",
       "        -0.36396531,  1.94253293, -0.49707613],\n",
       "       [ 1.6194092 ,  1.47998489,  1.72718212,  0.73249754, -1.38134822,\n",
       "        -0.27630294, -0.63230099,  1.6504481 ],\n",
       "       [-1.51481484, -1.57007092, -1.03677576, -0.7141851 ,  0.56733945,\n",
       "         0.51265846, -0.63230099,  0.03980492],\n",
       "       [-0.37509701, -0.21449056, -0.29972033,  0.73249754, -1.05656694,\n",
       "         0.51265846, -0.63230099,  0.3465941 ],\n",
       "       [ 1.90433865,  1.81887997, -1.03677576, -1.43752643, -0.08222311,\n",
       "        -0.53929007, -0.63230099,  1.57375081],\n",
       "       [-0.37509701, -0.21449056,  1.63505019,  0.00915622, -1.38134822,\n",
       "        -0.62695245, -0.63230099,  1.49705351],\n",
       "       [-1.22988538, -1.23117583, -0.76037997,  1.45583886, -1.7061295 ,\n",
       "        -0.53929007,  1.08425496, -0.42037884],\n",
       "       [ 2.18926811,  1.81887997,  0.43733511,  0.00915622,  1.54168328,\n",
       "        -0.88993958,  0.74094377,  0.73008057],\n",
       "       [-0.09016755,  0.12440453, -0.48398419,  1.45583886, -0.40700439,\n",
       "        -0.71461482, -0.63230099, -0.34368155],\n",
       "       [-0.66002647, -0.89228074, -0.76037997, -1.43752643, -0.40700439,\n",
       "         2.00291888, -0.63230099, -1.41744366],\n",
       "       [ 0.76462082,  0.80219471, -0.8525119 , -0.7141851 ,  0.56733945,\n",
       "         1.73993175, -0.63230099, -1.41744366],\n",
       "       [ 1.04955028,  0.97164225,  0.43733511,  0.00915622,  1.54168328,\n",
       "         0.42499608, -0.63230099,  0.03980492],\n",
       "       [-1.22988538, -1.23117583,  0.43733511,  0.00915622,  1.54168328,\n",
       "         0.42499608, -0.63230099,  0.03980492],\n",
       "       [ 0.76462082,  0.80219471,  0.62159897,  0.00915622,  1.54168328,\n",
       "         2.00291888, -0.63230099, -1.41744366],\n",
       "       [-0.94495592, -1.06172829, -0.02332454, -1.43752643, -0.40700439,\n",
       "         0.42499608, -0.63230099,  0.4232914 ],\n",
       "       [ 0.47969137,  0.46329962, -1.22103962,  0.00915622,  0.89212073,\n",
       "         1.73993175, -0.63230099, -1.41744366],\n",
       "       [-0.37509701, -0.21449056,  0.80586282,  0.00915622,  1.54168328,\n",
       "        -0.45162769, -0.63230099,  1.34365892],\n",
       "       [-0.66002647, -0.89228074, -0.02332454, -0.7141851 ,  0.24255817,\n",
       "        -0.71461482,  0.74094377,  0.80677787],\n",
       "       [-1.22988538, -1.23117583,  0.06880739,  1.45583886, -0.73178566,\n",
       "         0.42499608, -0.63230099,  0.11650222],\n",
       "       [-0.09016755,  0.12440453,  0.34520318,  1.45583886, -1.7061295 ,\n",
       "        -0.53929007, -0.63230099,  1.80384269],\n",
       "       [ 0.47969137,  0.46329962, -0.2075884 , -0.7141851 ,  0.24255817,\n",
       "         0.51265846, -0.63230099,  0.26989681],\n",
       "       [ 0.76462082,  0.80219471, -0.39185226, -0.7141851 ,  0.24255817,\n",
       "        -0.45162769, -0.63230099, -0.65047072],\n",
       "       [ 0.47969137,  0.46329962, -0.8525119 ,  0.73249754,  1.216902  ,\n",
       "         0.33733371, -0.63230099,  0.11650222],\n",
       "       [-1.51481484, -1.57007092, -0.39185226,  1.45583886, -1.7061295 ,\n",
       "         0.24967133, -0.63230099,  0.03980492],\n",
       "       [-1.51481484, -1.57007092, -1.58956734,  0.73249754, -1.05656694,\n",
       "        -0.27630294,  1.77087733, -0.57377343],\n",
       "       [-0.09016755,  0.12440453, -0.11545647,  1.45583886, -0.40700439,\n",
       "         0.24967133, -0.63230099, -0.03689237],\n",
       "       [-0.94495592, -1.06172829,  1.45078633,  0.00915622,  0.89212073,\n",
       "        -0.71461482, -0.63230099, -0.26698425],\n",
       "       [-1.51481484, -1.57007092,  1.91144598,  0.73249754, -1.38134822,\n",
       "        -0.8022772 , -0.63230099, -0.65047072],\n",
       "       [ 1.04955028,  0.97164225,  1.81931405,  0.73249754, -1.38134822,\n",
       "        -0.36396531, -0.63230099,  1.49705351],\n",
       "       [-0.09016755,  0.12440453,  1.63505019,  0.00915622, -1.38134822,\n",
       "        -0.88993958,  1.08425496,  0.96017245],\n",
       "       [ 1.04955028,  0.97164225,  0.16093932, -0.7141851 ,  0.24255817,\n",
       "        -1.06526433,  2.62915531,  0.19319951],\n",
       "       [ 1.04955028,  0.97164225,  0.99012668,  0.00915622,  1.54168328,\n",
       "         1.73993175, -0.63230099, -1.41744366],\n",
       "       [-0.37509701, -0.21449056,  1.26652247, -1.43752643,  0.89212073,\n",
       "        -0.53929007, -0.63230099, -0.65047072],\n",
       "       [ 0.19476191,  0.46329962,  1.81931405,  0.73249754, -1.38134822,\n",
       "        -0.62695245,  1.42756615, -0.26698425],\n",
       "       [ 1.04955028,  0.97164225,  1.54291826, -1.43752643,  0.89212073,\n",
       "         1.47694461, -0.63230099, -1.41744366],\n",
       "       [ 1.04955028,  0.97164225, -1.12890769,  0.73249754,  1.216902  ,\n",
       "         0.42499608, -0.63230099,  0.19319951],\n",
       "       [ 1.04955028,  0.97164225,  1.26652247, -1.43752643,  0.89212073,\n",
       "        -0.8022772 , -0.63230099, -0.42037884],\n",
       "       [-1.22988538, -1.23117583, -1.03677576, -1.43752643, -0.08222311,\n",
       "        -0.53929007, -0.63230099, -0.80386531],\n",
       "       [-0.37509701, -0.21449056,  1.08225861,  0.00915622,  0.89212073,\n",
       "        -0.88993958,  0.74094377,  1.11356704],\n",
       "       [-0.09016755,  0.12440453,  0.52946704,  0.00915622,  1.54168328,\n",
       "        -0.45162769, -0.63230099, -0.72716802],\n",
       "       [ 2.18926811,  2.15777506,  0.71373089,  0.00915622,  1.54168328,\n",
       "         1.82759412, -0.63230099, -1.41744366],\n",
       "       [-1.22988538, -1.23117583, -0.66824804, -0.7141851 ,  0.56733945,\n",
       "        -0.97760196,  2.11418852,  0.11650222],\n",
       "       [-0.09016755,  0.12440453,  1.3586544 ,  0.00915622,  0.89212073,\n",
       "        -0.71461482,  0.56928817,  1.03686975],\n",
       "       [-1.51481484, -1.57007092,  1.17439054,  0.00915622,  0.89212073,\n",
       "        -0.62695245,  1.59922174, -0.26698425],\n",
       "       [-0.09016755,  0.12440453, -1.31317155,  0.73249754, -1.05656694,\n",
       "         2.00291888, -0.63230099, -1.41744366],\n",
       "       [ 1.33447974,  1.31053734, -1.40530348, -0.7141851 ,  0.56733945,\n",
       "        -0.88993958,  0.56928817,  0.96017245],\n",
       "       [-0.37509701, -0.21449056, -0.57611611,  1.45583886, -0.40700439,\n",
       "        -0.88993958, -0.63230099, -0.26698425],\n",
       "       [-0.37509701, -0.21449056, -0.11545647, -0.7141851 ,  0.24255817,\n",
       "        -0.8022772 ,  1.08425496,  0.26989681],\n",
       "       [ 1.04955028,  0.97164225, -0.48398419, -0.7141851 ,  0.24255817,\n",
       "         1.82759412, -0.63230099, -1.41744366],\n",
       "       [-0.66002647, -0.89228074, -1.68169927,  1.45583886, -0.73178566,\n",
       "        -0.8022772 ,  1.08425496,  0.88347516],\n",
       "       [ 0.47969137,  0.46329962, -0.8525119 ,  0.73249754, -1.05656694,\n",
       "        -0.27630294, -0.63230099,  1.42035622],\n",
       "       [-0.66002647, -0.89228074,  0.34520318,  1.45583886, -1.7061295 ,\n",
       "        -1.15292671,  2.45749971, -0.26698425],\n",
       "       [-1.22988538, -1.23117583,  1.45078633,  0.00915622,  0.89212073,\n",
       "        -0.62695245, -0.63230099, -0.72716802],\n",
       "       [ 1.90433865,  1.81887997, -0.57611611, -0.7141851 ,  0.24255817,\n",
       "        -0.53929007, -0.63230099,  1.72714539],\n",
       "       [-1.22988538, -1.23117583, -0.66824804, -0.7141851 ,  0.56733945,\n",
       "        -0.36396531, -0.63230099, -0.42037884],\n",
       "       [-0.37509701, -1.23117583,  0.16093932,  0.00915622,  0.89212073,\n",
       "        -0.53929007, -0.63230099,  1.34365892],\n",
       "       [-0.66002647, -0.89228074, -0.48398419, -0.7141851 ,  0.56733945,\n",
       "         1.9152565 , -0.63230099, -1.41744366],\n",
       "       [ 1.04955028,  0.97164225,  0.89799475,  0.00915622,  0.89212073,\n",
       "        -0.53929007,  1.77087733, -0.49707613],\n",
       "       [ 1.04955028,  0.97164225,  1.72718212, -1.43752643, -1.38134822,\n",
       "        -0.97760196,  0.91259936,  0.88347516],\n",
       "       [-0.66002647, -0.89228074, -0.57611611, -1.43752643, -0.40700439,\n",
       "         1.56460699, -0.63230099, -1.41744366],\n",
       "       [-0.94495592, -1.06172829, -1.22103962, -1.43752643, -0.40700439,\n",
       "         1.47694461, -0.63230099, -1.41744366],\n",
       "       [-0.09016755,  0.12440453, -1.58956734, -1.43752643, -0.08222311,\n",
       "        -0.88993958,  0.91259936,  0.88347516],\n",
       "       [ 0.76462082,  0.80219471, -1.12890769,  0.73249754, -1.05656694,\n",
       "        -0.45162769, -0.63230099,  1.57375081],\n",
       "       [-0.37509701, -0.21449056, -1.22103962,  0.73249754,  1.216902  ,\n",
       "        -0.45162769,  2.28584412, -0.19028696],\n",
       "       [-0.37509701, -0.21449056,  2.0035779 , -1.43752643, -1.38134822,\n",
       "        -0.36396531, -0.63230099,  1.26696163],\n",
       "       [-0.09016755,  0.12440453,  0.06880739,  1.45583886, -0.40700439,\n",
       "        -0.71461482, -0.63230099, -0.72716802],\n",
       "       [-0.66002647, -0.89228074, -0.2075884 , -0.7141851 ,  0.24255817,\n",
       "         1.56460699, -0.63230099, -1.41744366],\n",
       "       [ 0.19476191,  0.46329962, -1.03677576,  0.73249754,  1.216902  ,\n",
       "         1.82759412, -0.63230099, -1.41744366],\n",
       "       [-1.22988538, -1.23117583, -1.12890769,  0.73249754, -1.05656694,\n",
       "        -0.36396531, -0.63230099,  1.72714539],\n",
       "       [ 1.6194092 ,  1.47998489, -0.2075884 ,  0.73249754, -1.05656694,\n",
       "         2.00291888, -0.63230099, -1.41744366],\n",
       "       [ 1.6194092 ,  1.47998489, -0.94464383, -1.43752643, -0.08222311,\n",
       "        -0.45162769, -0.63230099, -0.34368155]])"
      ]
     },
     "execution_count": 37,
     "metadata": {},
     "output_type": "execute_result"
    }
   ],
   "source": [
    "x_train"
   ]
  },
  {
   "cell_type": "markdown",
   "id": "9e8b71b5",
   "metadata": {},
   "source": [
    "# Training Models"
   ]
  },
  {
   "cell_type": "code",
   "execution_count": 38,
   "id": "d574ae6d",
   "metadata": {},
   "outputs": [],
   "source": [
    "from sklearn.linear_model import LogisticRegression\n",
    "from sklearn.naive_bayes import GaussianNB\n",
    "from sklearn.svm import SVC\n",
    "from sklearn.neighbors import KNeighborsClassifier\n",
    "from sklearn.tree import DecisionTreeClassifier\n",
    "from sklearn.tree import ExtraTreeClassifier\n",
    "from sklearn.ensemble import RandomForestClassifier\n",
    "from sklearn.ensemble import BaggingClassifier\n",
    "from sklearn.ensemble import GradientBoostingClassifier\n",
    "from sklearn.ensemble import AdaBoostClassifier\n",
    "from sklearn.metrics import accuracy_score"
   ]
  },
  {
   "cell_type": "code",
   "execution_count": 39,
   "id": "ad639eb0",
   "metadata": {},
   "outputs": [],
   "source": [
    "models = {\n",
    "    'Logistic Regression': LogisticRegression(),\n",
    "    'Naive Bayes': GaussianNB(),\n",
    "    'Support Vector Machine': SVC(),\n",
    "    'K-Nearest Neighbors': KNeighborsClassifier(),\n",
    "    'Decision Tree': DecisionTreeClassifier(),\n",
    "    'Random Forest': RandomForestClassifier(),\n",
    "    'Bagging': BaggingClassifier(),\n",
    "    'AdaBoost': AdaBoostClassifier(),\n",
    "    'Gradient Boosting': GradientBoostingClassifier(),\n",
    "    'Extra Trees': ExtraTreeClassifier(),\n",
    "}\n"
   ]
  },
  {
   "cell_type": "code",
   "execution_count": 40,
   "id": "e15fa260",
   "metadata": {},
   "outputs": [
    {
     "name": "stdout",
     "output_type": "stream",
     "text": [
      "Logistic Regression  with accuracy : 0.9\n",
      "Naive Bayes  with accuracy : 1.0\n",
      "Support Vector Machine  with accuracy : 0.8\n",
      "K-Nearest Neighbors  with accuracy : 0.6\n",
      "Decision Tree  with accuracy : 1.0\n",
      "Random Forest  with accuracy : 1.0\n",
      "Bagging  with accuracy : 1.0\n",
      "AdaBoost  with accuracy : 0.7\n",
      "Gradient Boosting  with accuracy : 0.95\n",
      "Extra Trees  with accuracy : 0.75\n"
     ]
    }
   ],
   "source": [
    "for name, md in models.items():\n",
    "    md.fit(x_train,y_train)\n",
    "    ypred = md.predict(x_test)\n",
    "    \n",
    "    print(f\"{name}  with accuracy : {accuracy_score(y_test,ypred)}\")"
   ]
  },
  {
   "cell_type": "code",
   "execution_count": 41,
   "id": "2d0fd9a5",
   "metadata": {},
   "outputs": [
    {
     "data": {
      "text/plain": [
       "1.0"
      ]
     },
     "execution_count": 41,
     "metadata": {},
     "output_type": "execute_result"
    }
   ],
   "source": [
    "rfc = RandomForestClassifier()\n",
    "rfc.fit(x_train,y_train)\n",
    "ypred = rfc.predict(x_test)\n",
    "accuracy_score(y_test,ypred)"
   ]
  },
  {
   "cell_type": "code",
   "execution_count": 44,
   "id": "53db15e0",
   "metadata": {},
   "outputs": [],
   "source": [
    "def recommendation(Temparature, Humidity, Moisture, Soil_Type, Crop_Type, Nitrogen, Potassium, Phosphorous):\n",
    "    features = np.array([[Temparature, Humidity, Moisture, Soil_Type, Crop_Type, Nitrogen, Potassium, Phosphorous]])\n",
    "    transformed_features = mx.fit_transform(features)\n",
    "    transformed_features = sc.fit_transform(transformed_features)\n",
    "    prediction = rfc.predict(transformed_features).reshape(1,-1)\n",
    "    \n",
    "    return prediction[0] "
   ]
  },
  {
   "cell_type": "code",
   "execution_count": 46,
   "id": "c273d74b",
   "metadata": {},
   "outputs": [
    {
     "name": "stdout",
     "output_type": "stream",
     "text": [
      "28-28 is the recommended fertilizer to be used.\n"
     ]
    }
   ],
   "source": [
    "\n",
    "\n",
    "# Given input values\n",
    "Temparature = 26\n",
    "Humidity = 0.5\n",
    "Moisture = 0.6\n",
    "Soil_Type = 2\n",
    "Crop_Type = 3\n",
    "Nitrogen = 10\n",
    "Potassium = 15\n",
    "Phosphorous = 6\n",
    "    \n",
    "    # Use the recommendation function to get a prediction\n",
    "prediction = recommendation(Temparature, Humidity, Moisture, Soil_Type, Crop_Type, Nitrogen, Potassium, Phosphorous)\n",
    "\n",
    "    # Define fertilizer dictionary\n",
    "fert_dict = {\n",
    "        1: 'Urea',\n",
    "        2: 'DAP',\n",
    "        3: '14-35-14',\n",
    "        4: '28-28',\n",
    "        5: '17-17-17',\n",
    "        6: '20-20',\n",
    "        7: '10-26-26'\n",
    "    }\n",
    "\n",
    "    # Check if prediction is in the fertilizer dictionary\n",
    "if prediction[0] in fert_dict:\n",
    "    recommended_fert = fert_dict[prediction[0]]\n",
    "    print(\"{} is the recommended fertilizer to be used.\".format(recommended_fert))\n",
    "else:\n",
    "    print(\"Sorry, we are not able to recommend a proper fertilizer for this environment.\")\n"
   ]
  },
  {
   "cell_type": "code",
   "execution_count": 47,
   "id": "8a138957",
   "metadata": {},
   "outputs": [],
   "source": [
    "import pickle\n",
    "pickle.dump(rfc,open('fert.sav','wb'))"
   ]
  },
  {
   "cell_type": "code",
   "execution_count": 48,
   "id": "ac3d29a2",
   "metadata": {},
   "outputs": [],
   "source": [
    "pickle.dump(mx,open('fminmaxscaler.sav','wb'))\n",
    "pickle.dump(sc,open('fstandscaler.sav','wb'))"
   ]
  },
  {
   "cell_type": "code",
   "execution_count": null,
   "id": "5b2b19d9",
   "metadata": {},
   "outputs": [],
   "source": []
  }
 ],
 "metadata": {
  "kernelspec": {
   "display_name": "base",
   "language": "python",
   "name": "python3"
  },
  "language_info": {
   "codemirror_mode": {
    "name": "ipython",
    "version": 3
   },
   "file_extension": ".py",
   "mimetype": "text/x-python",
   "name": "python",
   "nbconvert_exporter": "python",
   "pygments_lexer": "ipython3",
   "version": "3.11.7"
  }
 },
 "nbformat": 4,
 "nbformat_minor": 5
}
